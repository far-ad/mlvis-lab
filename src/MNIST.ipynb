{
 "cells": [
  {
   "cell_type": "code",
   "execution_count": 1,
   "metadata": {
    "collapsed": false
   },
   "outputs": [],
   "source": [
    "\"\"\"\n",
    "source: matplotlib tutorial\n",
    "http://matplotlib.org/users/image_tutorial.html\n",
    "\"\"\"\n",
    "\n",
    "import matplotlib.pyplot as plt\n",
    "from matplotlib.image import cm\n",
    "\n",
    "import mnist_database\n",
    "\n",
    "db = mnist_database.mnist_database('../data/mnist')\n",
    "\n",
    "(images, labels) = db.get_training_data()\n",
    "\n",
    "(images_training, labels_training) = (images, labels)\n",
    "(images_testing, labels_testing) = db.get_testing_data()"
   ]
  },
  {
   "cell_type": "code",
   "execution_count": 2,
   "metadata": {
    "collapsed": false
   },
   "outputs": [
    {
     "name": "stdout",
     "output_type": "stream",
     "text": [
      "(60000, 60000)\n"
     ]
    }
   ],
   "source": [
    "# view the first image of the dataset and print the number of images and labels\n",
    "\n",
    "imgplot = plt.imshow(images[0].reshape((28,28)), cmap=cm.gray)\n",
    "plt.show()\n",
    "\n",
    "print( len(images), len(labels) )"
   ]
  },
  {
   "cell_type": "code",
   "execution_count": 8,
   "metadata": {
    "collapsed": true
   },
   "outputs": [],
   "source": [
    "from numpy import zeros, int32\n",
    "\n",
    "\n",
    "class mnist_learntester:\n",
    "    def __init__(self,\n",
    "                 learning_implementation,\n",
    "                 training_vectors=len(images_training),\n",
    "                 testing_vectors=len(images_testing)\n",
    "                ):\n",
    "        self.learning_implementation = learning_implementation\n",
    "        self.trv = training_vectors\n",
    "        self.tsv = testing_vectors\n",
    "        self.hits = zeros((10,10), dtype=int32)\n",
    "    \n",
    "    def train(self):\n",
    "        self.learning_implementation.fit(images_training[:self.trv],\n",
    "                                         labels_training[:self.trv])\n",
    "        return\n",
    "    \n",
    "    def test(self):\n",
    "        for (t, sol) in zip(images_testing[:self.tsv],\n",
    "                            labels_testing[:self.tsv]):\n",
    "            self.hits[sol][self.learning_implementation.predict(t)] += 1\n",
    "        return\n",
    "    \n",
    "    def stats(self):\n",
    "        return self.hits\n"
   ]
  },
  {
   "cell_type": "code",
   "execution_count": 18,
   "metadata": {
    "collapsed": false,
    "scrolled": true
   },
   "outputs": [
    {
     "name": "stdout",
     "output_type": "stream",
     "text": [
      "max-depth 15: 87.820% classified correctly\n",
      "[0.87819999999999998]\n"
     ]
    }
   ],
   "source": [
    "import matplotlib.pyplot as plt\n",
    "from matplotlib.image import cm\n",
    "import numpy\n",
    "\n",
    "from sklearn.ensemble import RandomForestClassifier\n",
    "from sklearn.tree import DecisionTreeClassifier\n",
    "from sklearn.svm import LinearSVC\n",
    "\n",
    "results = []\n",
    "\n",
    "\n",
    "for j in range(15, 16):\n",
    "    m = mnist_learntester(\n",
    "        DecisionTreeClassifier(criterion='gini'),\n",
    "        training_vectors=60000\n",
    "    )\n",
    "    m.train()\n",
    "    m.test()\n",
    "\n",
    "    stats = m.stats()\n",
    "    # stats_percent = [ [i/sum(line) for i in line] for line in stats ]\n",
    "    \n",
    "    hit_rate = sum([stats[i][i] for i in range(len(stats))]) / float(len(images_testing))\n",
    "    print('max-depth %d: %.3f' % (j, hit_rate*100) + '% classified correctly')\n",
    "    results.append(hit_rate)\n",
    "\n",
    "\n",
    "print(results)"
   ]
  },
  {
   "cell_type": "code",
   "execution_count": 7,
   "metadata": {
    "collapsed": true
   },
   "outputs": [],
   "source": [
    "plt.imshow(stats)\n",
    "plt.show()"
   ]
  },
  {
   "cell_type": "code",
   "execution_count": 9,
   "metadata": {
    "collapsed": false
   },
   "outputs": [
    {
     "name": "stdout",
     "output_type": "stream",
     "text": [
      "created PDF-file\n"
     ]
    }
   ],
   "source": [
    "# render the tree\n",
    "\n",
    "from sklearn.tree import export_graphviz\n",
    "from sklearn.externals.six import StringIO\n",
    "\n",
    "try:\n",
    "    import pydot\n",
    "    \n",
    "    dot_data = StringIO() \n",
    "    export_graphviz(m.svm, out_file=dot_data) \n",
    "    graph = pydot.graph_from_dot_data(dot_data.getvalue()) \n",
    "    graph.write_pdf(\"decision-tree.pdf\")\n",
    "    print('created PDF-file')\n",
    "    \n",
    "except ImportError:\n",
    "    # pydot is not existing (probably working in python3)\n",
    "    with open(\"/home/raphael/Dokumente/MLlab/data/one-feature-tree.dot\", 'w') as f:\n",
    "        f = export_graphviz(m.svm, out_file=f)\n",
    "    print('created dot-file')\n"
   ]
  }
 ],
 "metadata": {
  "kernelspec": {
   "display_name": "Python 2",
   "language": "python",
   "name": "python2"
  },
  "language_info": {
   "codemirror_mode": {
    "name": "ipython",
    "version": 2
   },
   "file_extension": ".py",
   "mimetype": "text/x-python",
   "name": "python",
   "nbconvert_exporter": "python",
   "pygments_lexer": "ipython2",
   "version": "2.7.9"
  }
 },
 "nbformat": 4,
 "nbformat_minor": 0
}
